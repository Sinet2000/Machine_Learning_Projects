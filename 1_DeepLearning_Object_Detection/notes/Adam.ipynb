{
 "cells": [
  {
   "attachments": {},
   "cell_type": "markdown",
   "metadata": {},
   "source": [
    "### Adam\n",
    " (Adaptive Moment Estimation) is an optimization algorithm that can be used to update the parameters of a machine learning model. It is a popular choice for training deep learning models because it combines the benefits of two other optimization algorithms:\n",
    "\n",
    "- radient Descent: Adam uses the gradient of the loss function with respect to the parameters (weights and biases) of the model to update the parameters in the direction that minimizes the loss.\n",
    "\n",
    "- Momentum: Adam also uses a moving average of the gradient to smooth out the updates, which can help the optimization converge faster and be less sensitive to the choice of the learning rate.\n",
    "\n",
    "Adam is created by combining these ideas, it computes adaptive learning rates for each parameter. The algorithm calculates the exponentially weighted moving averages of the gradient and the squared gradient and the parameters are updated based on the ratio of the two.\n",
    "\n",
    "Adam is an algorithm that is generally robust to the choice of its hyperparameters, it is less memory-intensive than other optimization algorithms and it usually converge faster .\n",
    "\n",
    "Here's an example of how you can use the Adam optimizer in TensorFlow:"
   ]
  },
  {
   "cell_type": "code",
   "execution_count": null,
   "metadata": {},
   "outputs": [],
   "source": [
    "optimizer = tf.keras.optimizers.Adam()\n"
   ]
  },
  {
   "cell_type": "code",
   "execution_count": null,
   "metadata": {},
   "outputs": [],
   "source": [
    "optimizer = tf.keras.optimizers.Adam(learning_rate=0.001)\n"
   ]
  }
 ],
 "metadata": {
  "kernelspec": {
   "display_name": "Python 3",
   "language": "python",
   "name": "python3"
  },
  "language_info": {
   "name": "python",
   "version": "3.10.6 (main, Nov 14 2022, 16:10:14) [GCC 11.3.0]"
  },
  "orig_nbformat": 4,
  "vscode": {
   "interpreter": {
    "hash": "916dbcbb3f70747c44a77c7bcd40155683ae19c65e1c03b4aa3499c5328201f1"
   }
  }
 },
 "nbformat": 4,
 "nbformat_minor": 2
}
